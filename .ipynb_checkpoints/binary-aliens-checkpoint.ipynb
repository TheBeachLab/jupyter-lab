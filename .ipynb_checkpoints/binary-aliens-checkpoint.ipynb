{
 "cells": [
  {
   "cell_type": "markdown",
   "id": "21062bd4-5842-44e2-ad88-adb019481f1f",
   "metadata": {},
   "source": [
    "# Binary Aliens\n",
    "\n",
    "In this notebook numbers from Pascal triangle in binary are used to generate an image\n",
    "\n",
    "by Fran Sanchez, The Beach Lab"
   ]
  },
  {
   "cell_type": "markdown",
   "id": "a64932b5-2355-4089-b369-b12eaf3252b1",
   "metadata": {},
   "source": [
    "# Edit parameters here"
   ]
  },
  {
   "cell_type": "code",
   "execution_count": 112,
   "id": "4c60153d-886b-4dd5-a94e-88e784f3fdf5",
   "metadata": {},
   "outputs": [],
   "source": [
    "# Define matrix size 16x16 25x25, etc\n",
    "aliens=16"
   ]
  },
  {
   "cell_type": "code",
   "execution_count": 113,
   "id": "9d14c7bb-cdb3-4cbb-a4c5-d53afb45c7ac",
   "metadata": {},
   "outputs": [],
   "source": [
    "# list of colors, apple rainbow\n",
    "colors = [\n",
    "    '#000000', #black   0 cell around\n",
    "    '#4B0082', #indigo  1 cell around\n",
    "    '#973999', #violet  2 cell around\n",
    "    '#009cdf', #blue    3 cell around\n",
    "    '#5ebd3e', #green   4 cell around\n",
    "    '#ffb900', #yellow  5 cell around\n",
    "    '#f78200', #orange  6 cell around\n",
    "    '#e23838', #red     7 cell around\n",
    "    '#ffffff'  #white   8 cell around\n",
    "]"
   ]
  },
  {
   "cell_type": "markdown",
   "id": "aa6f2561-5363-4549-bbbc-e439b356ad21",
   "metadata": {},
   "source": [
    "# Math"
   ]
  },
  {
   "cell_type": "code",
   "execution_count": 114,
   "id": "db97f349-e3f5-4ec6-b5ab-f49499d704b6",
   "metadata": {},
   "outputs": [],
   "source": [
    "# import libs\n",
    "import math\n",
    "import matplotlib.colors\n",
    "import matplotlib.pyplot as plt\n",
    "import numpy as np\n",
    "from scipy import signal\n",
    "\n",
    "# define the scale of colors\n",
    "scale = [0, 1, 2, 3, 4, 5, 6, 7, 8, 9]\n",
    "cmap=matplotlib.colors.ListedColormap(colors)\n",
    "norm=matplotlib.colors.BoundaryNorm(scale, len(colors))\n",
    "\n",
    "# function to convert a string into separate characters\n",
    "def Convert(string):\n",
    "    list1=[]\n",
    "    list1[:0]=string\n",
    "    return list1\n",
    "\n",
    "# function to generate the individual cells os pascal triangle\n",
    "def combination(n, r): # correct calculation of combinations, n choose k\n",
    "    return int((math.factorial(n)) / ((math.factorial(r)) * math.factorial(n - r)))\n",
    "\n",
    "# define the rows of pascal triangle\n",
    "def pascal_tri(rows):\n",
    "    result = [] # need something to collect our results in\n",
    "    for count in range(rows): # start at 0, up to but not including rows number.\n",
    "        row = [] # need a row element to collect the row in\n",
    "        for element in range(count + 1): \n",
    "            decimal=combination(count, element)\n",
    "            binary=format(decimal,'0'+str(aliens)+'b') \n",
    "            binlist=Convert(binary)\n",
    "            intlist=[int(i) for i in binlist] # convert list of strings in list of int\n",
    "            row.append(intlist)\n",
    "        result.append(row)\n",
    "    return result\n",
    "\n",
    "# Auxiliary matrix to compute sum of values around a cell\n",
    "kernel = np.array([[ 1.,  1.,  1.],\n",
    "       [ 1.,  1.,  1.],\n",
    "       [ 1.,  1.,  1.]])\n",
    "\n",
    "# define the alien matrix\n",
    "def alien(i):\n",
    "    a=np.array(pascal_tri(aliens)[i])\n",
    "    a.resize(aliens,aliens)\n",
    "    n=aliens*int((aliens-i)/2)\n",
    "    b=np.roll(a,n)\n",
    "    c=np.rot90(b,3)\n",
    "    return c\n",
    "\n",
    "# define the alien sums matrix\n",
    "def alien_sum(i):\n",
    "    a=signal.convolve(alien(i), kernel, method='direct').astype(int)\n",
    "    b=a[1:-1, 1:-1] # truncate 4 sides of the matrix\n",
    "    c=np.multiply(b,alien(i)) # put back the values which were 0\n",
    "    return c\n",
    "\n",
    "# define the plot\n",
    "def alien_plot(i):\n",
    "    return plt.imshow(alien_sum(i), cmap=cmap, norm=norm)"
   ]
  },
  {
   "cell_type": "markdown",
   "id": "7c314ffe-31d0-4b17-9a5a-6e196454b853",
   "metadata": {},
   "source": [
    "# Generation process"
   ]
  },
  {
   "cell_type": "code",
   "execution_count": 115,
   "id": "60cc8ec7-e78a-4211-bde5-3b337960f1a1",
   "metadata": {},
   "outputs": [
    {
     "data": {
      "image/png": "[encoded data removed]",
      "text/plain": [
       "<Figure size 432x288 with 1 Axes>"
      ]
     },
     "metadata": {
      "needs_background": "light"
     },
     "output_type": "display_data"
    }
   ],
   "source": [
    "fig, ax = plt.subplots()\n",
    "\n",
    "ax.set_axis_off()\n",
    "ax.matshow(alien(aliens-1), cmap=\"binary\", vmin=0, vmax=3)\n",
    "\n",
    "for i in range(aliens):\n",
    "    for j in range(aliens):\n",
    "        c = alien(aliens-1)[j,i]\n",
    "        ax.text(i, j, str(c), va='center', ha='center')\n",
    "fig.savefig('matrix1.jpg')"
   ]
  },
  {
   "cell_type": "code",
   "execution_count": 116,
   "id": "f0dc82db-7faf-46ba-a682-661d31689278",
   "metadata": {},
   "outputs": [
    {
     "data": {
      "image/png": "[encoded data removed]",
      "text/plain": [
       "<Figure size 432x288 with 1 Axes>"
      ]
     },
     "metadata": {
      "needs_background": "light"
     },
     "output_type": "display_data"
    }
   ],
   "source": [
    "fig, ax = plt.subplots()\n",
    "\n",
    "ax.set_axis_off()\n",
    "ax.matshow(alien_sum(aliens-1), cmap=\"binary\", vmin=0, vmax=15)\n",
    "\n",
    "for i in range(aliens):\n",
    "    for j in range(aliens):\n",
    "        c = alien_sum(aliens-1)[j,i]\n",
    "        ax.text(i, j, str(c), va='center', ha='center')\n",
    "fig.savefig('matrix2.jpg')"
   ]
  },
  {
   "cell_type": "code",
   "execution_count": 117,
   "id": "17c6261d-3171-4abb-bcfa-4b5d7a13f905",
   "metadata": {},
   "outputs": [
    {
     "data": {
      "image/png": "[encoded data removed]",
      "text/plain": [
       "<Figure size 432x288 with 1 Axes>"
      ]
     },
     "metadata": {
      "needs_background": "light"
     },
     "output_type": "display_data"
    }
   ],
   "source": [
    "fig, ax = plt.subplots()\n",
    "\n",
    "ax.set_axis_off()\n",
    "ax.matshow(alien_sum(aliens-1), cmap=cmap)\n",
    "\n",
    "fig.savefig('matrix4.jpg')"
   ]
  },
  {
   "cell_type": "markdown",
   "id": "1d5b48d3-ebcc-459a-a322-6419e92baa64",
   "metadata": {},
   "source": [
    "To create a montage in command line `montage matrix[1-4].jpg  -tile 4x1  -geometry -50-10  matrix-montage.jpg`"
   ]
  },
  {
   "cell_type": "markdown",
   "id": "eda4223c-5ae8-4a7b-993a-d3cc7688d267",
   "metadata": {},
   "source": [
    "# Interactive alien generator"
   ]
  },
  {
   "cell_type": "code",
   "execution_count": 118,
   "id": "e560677d-6ea7-4c0c-97a0-00955686bab1",
   "metadata": {},
   "outputs": [
    {
     "data": {
      "application/vnd.jupyter.widget-view+json": {
       "model_id": "d92f2fc69f3d47c9b5d2331905cde31b",
       "version_major": 2,
       "version_minor": 0
      },
      "text/plain": [
       "interactive(children=(IntSlider(value=0, description='i', max=15), Output()), _dom_classes=('widget-interact',…"
      ]
     },
     "metadata": {},
     "output_type": "display_data"
    },
    {
     "data": {
      "text/plain": [
       "<function __main__.alien_plot(i)>"
      ]
     },
     "execution_count": 118,
     "metadata": {},
     "output_type": "execute_result"
    }
   ],
   "source": [
    "wg.interact(alien_plot, i= wg.IntSlider(max=aliens-1))"
   ]
  },
  {
   "cell_type": "markdown",
   "id": "b94ddc8c-0b7d-40bd-85f4-968bf18a83c0",
   "metadata": {},
   "source": [
    "# All Pascal Triangle alien rows"
   ]
  },
  {
   "cell_type": "code",
   "execution_count": 119,
   "id": "b0ac9897-a52b-4d5c-b783-87a80cb14297",
   "metadata": {},
   "outputs": [
    {
     "data": {
      "image/png": "[encoded data removed]",
      "text/plain": [
       "<Figure size 1152x1152 with 16 Axes>"
      ]
     },
     "metadata": {
      "needs_background": "light"
     },
     "output_type": "display_data"
    }
   ],
   "source": [
    "fig, axs = plt.subplots(aliens_root, aliens_root, figsize=(aliens,aliens))\n",
    "for i,ax in enumerate(axs.flat):\n",
    "    #ax.title.set_text('Row '+str(i+1))\n",
    "    ax.set_axis_off()\n",
    "    #ax.grid(color = 'gray', which='major', linewidth = 0.5)\n",
    "    im=ax.imshow(alien_sum(i),cmap=cmap, norm=norm)\n",
    "# colorbar\n",
    "#cbar = fig.colorbar(im, ax=axs.ravel().tolist(), shrink=0.96, orientation=\"horizontal\")\n",
    "#cbar.ax.set_ylabel('', rotation=0)\n",
    "#cbar.set_ticks(np.arange(0, 1, 2))\n",
    "#cbar.set_ticklabels(['0', '1', '2', '3', '4', '5', '6', '7', '8', '9'])\n",
    "\n",
    "# title\n",
    "#fig.suptitle('Binary Pascal Triangle', fontsize=26)\n",
    "\n",
    "plt.savefig('aliens.jpg')\n",
    "plt.show()"
   ]
  }
 ],
 "metadata": {
  "kernelspec": {
   "display_name": "Python 3",
   "language": "python",
   "name": "python3"
  },
  "language_info": {
   "codemirror_mode": {
    "name": "ipython",
    "version": 3
   },
   "file_extension": ".py",
   "mimetype": "text/x-python",
   "name": "python",
   "nbconvert_exporter": "python",
   "pygments_lexer": "ipython3",
   "version": "3.8.12"
  }
 },
 "nbformat": 4,
 "nbformat_minor": 5
}
