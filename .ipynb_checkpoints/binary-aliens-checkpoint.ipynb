{
 "cells": [
  {
   "cell_type": "markdown",
   "id": "21062bd4-5842-44e2-ad88-adb019481f1f",
   "metadata": {},
   "source": [
    "# Binary Aliens\n",
    "\n",
    "In this notebook numbers from Pascal triangle in binary are used to generate an image\n",
    "\n",
    "by Fran Sanchez, The Beach Lab"
   ]
  },
  {
   "cell_type": "code",
   "execution_count": 1,
   "id": "087799e5-74ca-4492-a0b2-c7f7587be15d",
   "metadata": {},
   "outputs": [],
   "source": [
    "import math\n",
    "import matplotlib.colors\n",
    "import matplotlib.pyplot as plt\n",
    "import numpy as np\n",
    "import ipywidgets as wg\n",
    "from scipy import signal"
   ]
  },
  {
   "cell_type": "code",
   "execution_count": 55,
   "id": "9d14c7bb-cdb3-4cbb-a4c5-d53afb45c7ac",
   "metadata": {},
   "outputs": [],
   "source": [
    "# list of colors, apple rainbow\n",
    "colors = [\n",
    "    '#000000', #black\n",
    "    '#4B0082', #indigo\n",
    "    '#973999', #violet\n",
    "    '#009cdf', #blue\n",
    "    '#5ebd3e', #green\n",
    "    '#ffb900', #yellow\n",
    "    '#f78200', #orange\n",
    "    '#e23838', #red\n",
    "    '#ffffff'  #white\n",
    "]\n",
    "\n",
    "scale = [0, 1, 2, 3, 4, 5, 6, 7, 8, 9]\n",
    "\n",
    "cmap=matplotlib.colors.ListedColormap(colors)\n",
    "norm=matplotlib.colors.BoundaryNorm(scale, len(colors))"
   ]
  },
  {
   "cell_type": "code",
   "execution_count": 72,
   "id": "4c60153d-886b-4dd5-a94e-88e784f3fdf5",
   "metadata": {},
   "outputs": [],
   "source": [
    "aliens_root=4\n",
    "aliens=aliens_root**2"
   ]
  },
  {
   "cell_type": "code",
   "execution_count": 73,
   "id": "db97f349-e3f5-4ec6-b5ab-f49499d704b6",
   "metadata": {},
   "outputs": [],
   "source": [
    "# convert a string into separate characters\n",
    "def Convert(string):\n",
    "    list1=[]\n",
    "    list1[:0]=string\n",
    "    return list1"
   ]
  },
  {
   "cell_type": "code",
   "execution_count": 74,
   "id": "1b2fa377-9292-4122-967e-635f69f8e3e4",
   "metadata": {},
   "outputs": [],
   "source": [
    "def combination(n, r): # correct calculation of combinations, n choose k\n",
    "    return int((math.factorial(n)) / ((math.factorial(r)) * math.factorial(n - r)))"
   ]
  },
  {
   "cell_type": "code",
   "execution_count": 75,
   "id": "dbbaac39-7ac7-452f-9db3-af5cce08e101",
   "metadata": {},
   "outputs": [],
   "source": [
    "def pascal_tri(rows):\n",
    "    result = [] # need something to collect our results in\n",
    "    for count in range(rows): # start at 0, up to but not including rows number.\n",
    "        row = [] # need a row element to collect the row in\n",
    "        for element in range(count + 1): \n",
    "            decimal=combination(count, element)\n",
    "            binary=format(decimal,'0'+str(aliens)+'b') \n",
    "            binlist=Convert(binary)\n",
    "            intlist=[int(i) for i in binlist] # convert list of strings in list of int\n",
    "            row.append(intlist)\n",
    "        result.append(row)\n",
    "    return result"
   ]
  },
  {
   "cell_type": "code",
   "execution_count": 76,
   "id": "0f86af40-e61f-4eee-ba03-3dc3674bdaeb",
   "metadata": {},
   "outputs": [
    {
     "data": {
      "text/plain": [
       "array([[1., 1., 1.],\n",
       "       [1., 1., 1.],\n",
       "       [1., 1., 1.]])"
      ]
     },
     "execution_count": 76,
     "metadata": {},
     "output_type": "execute_result"
    }
   ],
   "source": [
    "# Auxiliary matrix to compute sum of values around a cell\n",
    "kernel = np.array([[ 1.,  1.,  1.],\n",
    "       [ 1.,  1.,  1.],\n",
    "       [ 1.,  1.,  1.]])\n",
    "kernel"
   ]
  },
  {
   "cell_type": "code",
   "execution_count": 77,
   "id": "a466263f-7643-4d6b-9bae-726f25545474",
   "metadata": {},
   "outputs": [],
   "source": [
    "def alien(i):\n",
    "    a=np.array(pascal_tri(aliens)[i])\n",
    "    a.resize(aliens,aliens)\n",
    "    n=aliens*int((aliens-i)/2)\n",
    "    b=np.roll(a,n)\n",
    "    c=np.rot90(b,3)\n",
    "    return c\n",
    "\n",
    "def alien_sum(i):\n",
    "    a=signal.convolve(alien(i), kernel, method='direct').astype(int)\n",
    "    b=a[1:-1, 1:-1] # truncate 4 sides of the matrix\n",
    "    c=np.multiply(b,alien(i)) # put back the values which were 0\n",
    "    return c\n",
    "\n",
    "def alien_plot(i):\n",
    "    return plt.imshow(alien_sum(i), cmap=cmap, norm=norm)"
   ]
  },
  {
   "cell_type": "code",
   "execution_count": 79,
   "id": "e560677d-6ea7-4c0c-97a0-00955686bab1",
   "metadata": {},
   "outputs": [
    {
     "data": {
      "application/vnd.jupyter.widget-view+json": {
       "model_id": "d0172e9cf8864fdfa0753aa3866e199e",
       "version_major": 2,
       "version_minor": 0
      },
      "text/plain": [
       "interactive(children=(IntSlider(value=0, description='i', max=15), Output()), _dom_classes=('widget-interact',…"
      ]
     },
     "metadata": {},
     "output_type": "display_data"
    },
    {
     "data": {
      "text/plain": [
       "<function __main__.alien_plot(i)>"
      ]
     },
     "execution_count": 79,
     "metadata": {},
     "output_type": "execute_result"
    }
   ],
   "source": [
    "wg.interact(alien_plot, i= wg.IntSlider(max=aliens-1))"
   ]
  },
  {
   "cell_type": "code",
   "execution_count": 122,
   "id": "b0ac9897-a52b-4d5c-b783-87a80cb14297",
   "metadata": {},
   "outputs": [
    {
     "data": {
      "image/png": "[encoded data removed]",
      "text/plain": [
       "<Figure size 1152x1152 with 16 Axes>"
      ]
     },
     "metadata": {
      "needs_background": "light"
     },
     "output_type": "display_data"
    }
   ],
   "source": [
    "fig, axs = plt.subplots(aliens_root, aliens_root, figsize=(aliens,aliens))\n",
    "for i,ax in enumerate(axs.flat):\n",
    "    #ax.title.set_text('Row '+str(i+1))\n",
    "    ax.set_axis_off()\n",
    "    #ax.grid(color = 'gray', which='major', linewidth = 0.5)\n",
    "    im=ax.imshow(alien_sum(i),cmap=cmap, norm=norm)\n",
    "# colorbar\n",
    "#cbar = fig.colorbar(im, ax=axs.ravel().tolist(), shrink=0.96, orientation=\"horizontal\")\n",
    "#cbar.ax.set_ylabel('', rotation=0)\n",
    "#cbar.set_ticks(np.arange(0, 1, 2))\n",
    "#cbar.set_ticklabels(['0', '1', '2', '3', '4', '5', '6', '7', '8', '9'])\n",
    "\n",
    "# title\n",
    "#fig.suptitle('Binary Pascal Triangle', fontsize=26)\n",
    "\n",
    "plt.savefig('aliens.jpg')\n",
    "plt.show()"
   ]
  },
  {
   "cell_type": "code",
   "execution_count": 116,
   "id": "917ab86d-8f56-49c7-93c5-4b1e9ee9308e",
   "metadata": {},
   "outputs": [
    {
     "data": {
      "text/plain": [
       "<Figure size 432x288 with 0 Axes>"
      ]
     },
     "metadata": {},
     "output_type": "display_data"
    }
   ],
   "source": [
    "plt.savefig('aliens.png')"
   ]
  },
  {
   "cell_type": "code",
   "execution_count": null,
   "id": "1dd39a6e-0bfc-4fa6-b383-d2cfd21ba357",
   "metadata": {},
   "outputs": [],
   "source": []
  }
 ],
 "metadata": {
  "kernelspec": {
   "display_name": "Python 3 (ipykernel)",
   "language": "python",
   "name": "python3"
  },
  "language_info": {
   "codemirror_mode": {
    "name": "ipython",
    "version": 3
   },
   "file_extension": ".py",
   "mimetype": "text/x-python",
   "name": "python",
   "nbconvert_exporter": "python",
   "pygments_lexer": "ipython3",
   "version": "3.9.7"
  }
 },
 "nbformat": 4,
 "nbformat_minor": 5
}
