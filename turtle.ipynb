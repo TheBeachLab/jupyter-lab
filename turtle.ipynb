{
 "cells": [
  {
   "cell_type": "code",
   "execution_count": 2,
   "id": "602f2e71-6a16-4e88-a86f-32767e034b04",
   "metadata": {},
   "outputs": [],
   "source": [
    "import turtle"
   ]
  },
  {
   "cell_type": "code",
   "execution_count": 3,
   "id": "272eb69e-3043-4850-8fa0-d9e0eb2d2463",
   "metadata": {},
   "outputs": [],
   "source": [
    "turtle.title('Hi! I\\'m Bob the turtle!')\n",
    "turtle.setup(width=800, height=800)\n",
    "\n",
    "bob = turtle.Turtle(shape='turtle')\n",
    "bob.color('orange')\n",
    "\n",
    "# Drawing a square\n",
    "bob.forward(100)\n",
    "bob.right(90)\n",
    "bob.forward(100)\n",
    "bob.right(90)\n",
    "bob.forward(100)\n",
    "bob.right(90)\n",
    "bob.forward(100)\n",
    "\n",
    "turtle.exitonclick()"
   ]
  },
  {
   "cell_type": "code",
   "execution_count": null,
   "id": "e0c3578e-6a40-4cce-a505-798111b5625f",
   "metadata": {},
   "outputs": [],
   "source": []
  }
 ],
 "metadata": {
  "kernelspec": {
   "display_name": "Python 3 (ipykernel)",
   "language": "python",
   "name": "python3"
  },
  "language_info": {
   "codemirror_mode": {
    "name": "ipython",
    "version": 3
   },
   "file_extension": ".py",
   "mimetype": "text/x-python",
   "name": "python",
   "nbconvert_exporter": "python",
   "pygments_lexer": "ipython3",
   "version": "3.9.7"
  }
 },
 "nbformat": 4,
 "nbformat_minor": 5
}
