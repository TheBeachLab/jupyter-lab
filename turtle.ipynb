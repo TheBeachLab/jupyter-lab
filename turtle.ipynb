{
 "cells": [
  {
   "cell_type": "code",
   "execution_count": 1,
   "id": "602f2e71-6a16-4e88-a86f-32767e034b04",
   "metadata": {},
   "outputs": [],
   "source": [
    "from mobilechelonian import Turtle"
   ]
  },
  {
   "cell_type": "code",
   "execution_count": 2,
   "id": "272eb69e-3043-4850-8fa0-d9e0eb2d2463",
   "metadata": {},
   "outputs": [
    {
     "data": {
      "application/vnd.jupyter.widget-view+json": {
       "model_id": "0fa3f3c7578344f78af6890bdb8ca7bc",
       "version_major": 2,
       "version_minor": 0
      },
      "text/plain": [
       "Turtle()"
      ]
     },
     "metadata": {},
     "output_type": "display_data"
    }
   ],
   "source": [
    "bob = Turtle()\n",
    "\n",
    "# Drawing a square\n",
    "bob.forward(100)\n",
    "bob.right(90)\n",
    "bob.forward(100)\n",
    "bob.right(90)\n",
    "bob.forward(100)\n",
    "bob.right(90)\n",
    "bob.forward(100)"
   ]
  },
  {
   "cell_type": "code",
   "execution_count": null,
   "id": "83c89e7f-6cf0-49f1-ba44-f2eb638b912b",
   "metadata": {},
   "outputs": [],
   "source": []
  }
 ],
 "metadata": {
  "kernelspec": {
   "display_name": "Python 3",
   "language": "python",
   "name": "python3"
  },
  "language_info": {
   "codemirror_mode": {
    "name": "ipython",
    "version": 3
   },
   "file_extension": ".py",
   "mimetype": "text/x-python",
   "name": "python",
   "nbconvert_exporter": "python",
   "pygments_lexer": "ipython3",
   "version": "3.8.12"
  }
 },
 "nbformat": 4,
 "nbformat_minor": 5
}
